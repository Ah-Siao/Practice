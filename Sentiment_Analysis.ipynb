{
 "cells": [
  {
   "cell_type": "code",
   "execution_count": 33,
   "id": "fcda4630-6d8c-48aa-835b-c593094de24c",
   "metadata": {},
   "outputs": [],
   "source": [
    "import pandas as pd\n",
    "import matplotlib.pyplot as plt\n",
    "from sklearn.model_selection import train_test_split\n",
    "from sklearn.metrics import accuracy_score,confusion_matrix,precision_score, recall_score, roc_curve, roc_auc_score, f1_score\n",
    "import numpy as np\n",
    "import tensorflow as tf\n",
    "from sklearn.feature_extraction.text import TfidfVectorizer,CountVectorizer\n",
    "from sklearn.naive_bayes import MultinomialNB\n",
    "from sklearn.pipeline import Pipeline\n",
    "from sklearn.svm import SVC\n",
    "from xgboost import XGBClassifier\n",
    "from sklearn.neighbors import KNeighborsClassifier\n",
    "import math\n",
    "from tensorflow.keras.layers import TextVectorization\n",
    "import tensorflow_hub as hub"
   ]
  },
  {
   "cell_type": "code",
   "execution_count": 34,
   "id": "960c654e-0053-41e9-8523-5f7470f2fd6e",
   "metadata": {},
   "outputs": [],
   "source": [
    "def evaluation_matrix(y_true,y_pred):\n",
    "    '''\n",
    "    eval_dictionary=evaluation_matrix(y_true,y_pred)\n",
    "    '''\n",
    "    f1score=f1_score(y_true,y_pred)\n",
    "    accuracy=sum(y_true==y_pred)/len(y_true)\n",
    "    tn, fp, fn, tp =confusion_matrix(y_true,y_pred).ravel()\n",
    "    pre_score=precision_score(y_true,y_pred)\n",
    "    res={'f1_score':f1score,\n",
    "        'accuracy':accuracy,\n",
    "        'False Positive':fp,\n",
    "        'False Negative':fn,\n",
    "        'precision_score':pre_score}\n",
    "    return res\n",
    "\n",
    "def split_data(train_path,split_ratio,seed):\n",
    "    '''\n",
    "    X_train, X_val, y_train, y_val=split_data(train_path,split_ratio,seed)\n",
    "    '''\n",
    "    train_df=pd.read_csv(train_path)\n",
    "    # randomize the data\n",
    "    train_shuffle_df=train_df[['text','target']].sample(frac=1,random_state=seed)\n",
    "    X=train_shuffle_df['text'].to_numpy()\n",
    "    y=train_shuffle_df['target'].to_numpy()\n",
    "    X_train, X_val, y_train, y_val = train_test_split(X, y, test_size=split_ratio, random_state=seed)\n",
    "    return X_train, X_val, y_train, y_val\n",
    "\n",
    "# you can choose TfidfVectorizer(), or CountVectorizer for the vectorization part\n",
    "# you can choose SVC, XGBClassifier, MultinomialNB or KNeighborsClassifier\n",
    "def sklearn_model(vec_name,vec_module,clasi_name,clasi_module,X_train,y_train):\n",
    "    model=Pipeline([(vec_name,vec_module),(clasi_name,clasi_module)])\n",
    "    model.fit(X_train,y_train)\n",
    "    return model\n",
    "\n",
    "def vectorizer_embed_layer_generator(X_train,output_dim):\n",
    "    '''\n",
    "    \n",
    "    text_vectorizer,embed_layer=vectorizer_embed_layer_generator(X_train,output_dim)\n",
    "    \n",
    "    '''\n",
    "    avg_len=np.average([len(sentence.split()) for sentence in X_train])\n",
    "    max_len=int(np.ceil(avg_len))\n",
    "    word_pool=set()\n",
    "    # calculate total number of unique word\n",
    "    for sentence in X_train:\n",
    "        for ele in sentence.split():\n",
    "            if ele.strip() not in word_pool:\n",
    "                word_pool.add(ele.strip())\n",
    "    max_tokens=len(word_pool)\n",
    "    del word_pool\n",
    "    \n",
    "    text_vectorizer=TextVectorization(max_tokens=max_tokens, output_mode='int',output_sequence_length=max_len)\n",
    "    text_vectorizer.adapt(X_train)\n",
    "    \n",
    "    embed_layer=tf.keras.layers.Embedding(input_dim=max_tokens,output_dim=output_dim,input_length=max_len)\n",
    "    \n",
    "    return text_vectorizer, embed_layer\n"
   ]
  },
  {
   "cell_type": "markdown",
   "id": "5463a2df-30a9-4573-bab0-a0fec6429689",
   "metadata": {},
   "source": [
    "#### Model combination\n",
    "model_0: MultinomialNB with tfidf Vectorizer\n",
    "\n",
    "model_1: MultinomialNB with CountVectorizer \n",
    "\n",
    "model_2: SVM with TfidfVectorizer \n",
    "\n",
    "model_3: SVM with CountVectorizer\n",
    "\n",
    "model_4: XGBClassifier with TfidfVectorizer\n",
    "\n",
    "model_5: XGBClassifier with CountVectorizer\n",
    "\n",
    "model_6: KNN Classifier with TfidfVectorizer\n",
    "\n",
    "model_7: NN model (tensorflow)\n",
    "\n",
    "model_8: change flatten() to globalmaxpool1D\n",
    "\n",
    "model_9: LSTM\n",
    "\n",
    "model_10: GRU\n",
    "\n",
    "model_11: Bidirectional LSTM\n",
    "\n",
    "model_12: transfer learning: feature extraction\n"
   ]
  },
  {
   "cell_type": "code",
   "execution_count": 35,
   "id": "1585c31d-d3cd-4c9d-bb5e-56082936b4bb",
   "metadata": {},
   "outputs": [],
   "source": [
    "model_matrix={}\n",
    "eval_matrix={}\n",
    "X_train, X_val, y_train, y_val=split_data('train.csv',split_ratio=0.2,seed=101)"
   ]
  },
  {
   "cell_type": "code",
   "execution_count": 36,
   "id": "a8154da6-c365-4436-89b0-d7d87a2a3eb7",
   "metadata": {},
   "outputs": [],
   "source": [
    "# you can choose TfidfVectorizer(), or CountVectorizer for the vectorization part\n",
    "# you can choose SVC, XGBClassifier, MultinomialNB or KNeighborsClassifier"
   ]
  },
  {
   "cell_type": "code",
   "execution_count": 37,
   "id": "bb8da18a-a8de-45b0-9a2b-251b374fea7f",
   "metadata": {},
   "outputs": [],
   "source": [
    "model_matrix[0]=sklearn_model('tfidf',TfidfVectorizer(),'MultinomialNB',MultinomialNB(),X_train,y_train)\n",
    "model_matrix[1]=sklearn_model('count Vector', CountVectorizer(),'MultinomialNB',MultinomialNB(),X_train,y_train)\n",
    "model_matrix[2]=sklearn_model('tfidf',TfidfVectorizer(),'SVC',SVC(),X_train,y_train)\n",
    "model_matrix[3]=sklearn_model('count Vector', CountVectorizer(),'SVC',SVC(),X_train,y_train)\n",
    "model_matrix[4]=sklearn_model('tfidf',TfidfVectorizer(),'XGBClassifier',XGBClassifier(),X_train,y_train)\n",
    "model_matrix[5]=sklearn_model('count Vector', CountVectorizer(),'XGBClassifier',XGBClassifier(),X_train,y_train)\n",
    "model_matrix[6]=sklearn_model('tfidf',TfidfVectorizer(),'KNN',KNeighborsClassifier(),X_train,y_train)"
   ]
  },
  {
   "cell_type": "code",
   "execution_count": 38,
   "id": "451cb048-c364-4372-ac3d-a0e318d2e27d",
   "metadata": {},
   "outputs": [],
   "source": [
    "for i in range(7):\n",
    "    y_pred=model_matrix[i].predict(X_val)\n",
    "    eval_matrix[i]=evaluation_matrix(y_val,y_pred)"
   ]
  },
  {
   "cell_type": "code",
   "execution_count": 39,
   "id": "79be7f5b-075a-4b77-b692-63ed07969ae1",
   "metadata": {},
   "outputs": [],
   "source": [
    "## For tensorflow\n",
    "text_vectorizer,embed_layer=vectorizer_embed_layer_generator(X_train,output_dim=512)"
   ]
  },
  {
   "cell_type": "code",
   "execution_count": 40,
   "id": "614df4f1-53a9-42c2-8efa-441a67f0ba3d",
   "metadata": {},
   "outputs": [
    {
     "name": "stdout",
     "output_type": "stream",
     "text": [
      "Epoch 1/5\n",
      "609/609 [==============================] - 7s 10ms/step - loss: 0.5219 - accuracy: 0.7427 - val_loss: 0.4965 - val_accuracy: 0.7715\n",
      "Epoch 2/5\n",
      "609/609 [==============================] - 6s 10ms/step - loss: 0.1466 - accuracy: 0.9488 - val_loss: 0.6768 - val_accuracy: 0.7439\n",
      "Epoch 3/5\n",
      "609/609 [==============================] - 6s 10ms/step - loss: 0.0400 - accuracy: 0.9837 - val_loss: 0.7815 - val_accuracy: 0.7571\n"
     ]
    },
    {
     "data": {
      "text/plain": [
       "<keras.callbacks.History at 0x28b72096280>"
      ]
     },
     "execution_count": 40,
     "metadata": {},
     "output_type": "execute_result"
    }
   ],
   "source": [
    "inputs = tf.keras.Input(shape=(X_train.ndim,),dtype=tf.string)\n",
    "x=text_vectorizer(inputs)\n",
    "x=embed_layer(x)\n",
    "x=tf.keras.layers.Flatten()(x)\n",
    "x=tf.keras.layers.Dense(32,activation='relu')(x)\n",
    "x=tf.keras.layers.Dense(16,activation='relu')(x)\n",
    "outputs=tf.keras.layers.Dense(1,activation='sigmoid')(x)\n",
    "model_matrix[7]=tf.keras.Model(inputs=inputs,outputs=outputs)\n",
    "model_matrix[7].compile(optimizer='adam',loss='binary_crossentropy',metrics=['accuracy'])\n",
    "callback = tf.keras.callbacks.EarlyStopping(monitor='val_loss', patience=2)\n",
    "model_matrix[7].fit(x=X_train,y=y_train,steps_per_epoch=0.1*len(X_train), validation_data=(X_val,y_val),validation_steps=0.1*len(X_val),epochs=5, callbacks=[callback])"
   ]
  },
  {
   "cell_type": "code",
   "execution_count": 41,
   "id": "8af18c66-3274-4bf9-aa72-fd68fa671751",
   "metadata": {},
   "outputs": [],
   "source": [
    "y_pred=np.round(np.squeeze(model_matrix[7].predict(X_val)))"
   ]
  },
  {
   "cell_type": "code",
   "execution_count": 42,
   "id": "86f32b80-8276-4f9c-809a-c09a43b1cc78",
   "metadata": {},
   "outputs": [],
   "source": [
    "model_matrix[7]=evaluation_matrix(y_val,y_pred)"
   ]
  },
  {
   "cell_type": "code",
   "execution_count": 43,
   "id": "6ea8f762-df3f-4f54-8a0c-0ab6da3b2db5",
   "metadata": {},
   "outputs": [
    {
     "name": "stdout",
     "output_type": "stream",
     "text": [
      "Epoch 1/5\n",
      "609/609 [==============================] - 7s 10ms/step - loss: 0.3201 - accuracy: 0.8703 - val_loss: 0.5902 - val_accuracy: 0.7689\n",
      "Epoch 2/5\n",
      "609/609 [==============================] - 6s 10ms/step - loss: 0.1023 - accuracy: 0.9627 - val_loss: 0.7434 - val_accuracy: 0.7610\n",
      "Epoch 3/5\n",
      "609/609 [==============================] - 6s 10ms/step - loss: 0.0400 - accuracy: 0.9893 - val_loss: 0.8934 - val_accuracy: 0.7590\n"
     ]
    }
   ],
   "source": [
    "# model_8: change flatten() to globalmaxpool1D\n",
    "inputs = tf.keras.Input(shape=(X_train.ndim,),dtype=tf.string)\n",
    "x=text_vectorizer(inputs)\n",
    "x=embed_layer(x)\n",
    "x=tf.keras.layers.GlobalMaxPool1D()(x)\n",
    "x=tf.keras.layers.Dense(32,activation='relu')(x)\n",
    "x=tf.keras.layers.Dense(16,activation='relu')(x)\n",
    "outputs=tf.keras.layers.Dense(1,activation='sigmoid')(x)\n",
    "model_matrix[8]=tf.keras.Model(inputs=inputs,outputs=outputs)\n",
    "model_matrix[8].compile(optimizer='adam',loss='binary_crossentropy',metrics=['accuracy'])\n",
    "callback = tf.keras.callbacks.EarlyStopping(monitor='val_loss', patience=2)\n",
    "model_matrix[8].fit(x=X_train,y=y_train,steps_per_epoch=0.1*len(X_train), validation_data=(X_val,y_val),validation_steps=0.1*len(X_val),epochs=5, callbacks=[callback])\n",
    "y_pred=np.round(np.squeeze(model_matrix[8].predict(X_val)))\n",
    "eval_matrix[8]=evaluation_matrix(y_val,y_pred)"
   ]
  },
  {
   "cell_type": "code",
   "execution_count": 44,
   "id": "2b4e5e27-2543-4573-9804-440bd529146d",
   "metadata": {},
   "outputs": [
    {
     "name": "stdout",
     "output_type": "stream",
     "text": [
      "Epoch 1/5\n",
      "609/609 [==============================] - 8s 12ms/step - loss: 0.2003 - accuracy: 0.9284 - val_loss: 0.6252 - val_accuracy: 0.7479\n",
      "Epoch 2/5\n",
      "609/609 [==============================] - 7s 12ms/step - loss: 0.0573 - accuracy: 0.9791 - val_loss: 0.9171 - val_accuracy: 0.7124\n",
      "Epoch 3/5\n",
      "609/609 [==============================] - 7s 11ms/step - loss: 0.0299 - accuracy: 0.9905 - val_loss: 1.0019 - val_accuracy: 0.7564\n"
     ]
    }
   ],
   "source": [
    "# model_9:  LSTM\n",
    "inputs=tf.keras.Input(shape=(1,),dtype=tf.string)\n",
    "x=text_vectorizer(inputs)\n",
    "x=embed_layer(x)\n",
    "x=tf.keras.layers.LSTM(units=64,return_sequences=False)(x)\n",
    "x=tf.keras.layers.Dense(32,activation='relu')(x)\n",
    "x=tf.keras.layers.Dense(16,activation='relu')(x)\n",
    "outputs=tf.keras.layers.Dense(1,activation='sigmoid')(x)\n",
    "model_matrix[9]=tf.keras.Model(inputs=inputs,outputs=outputs)\n",
    "model_matrix[9].compile(optimizer='adam',loss='binary_crossentropy',metrics=['accuracy'])\n",
    "callback = tf.keras.callbacks.EarlyStopping(monitor='val_loss', patience=2)\n",
    "model_matrix[9].fit(x=X_train,y=y_train,steps_per_epoch=0.1*len(X_train), validation_data=(X_val,y_val),validation_steps=0.1*len(X_val),epochs=5, callbacks=[callback])\n",
    "y_pred=np.round(np.squeeze(model_matrix[9].predict(X_val)))\n",
    "eval_matrix[9]=evaluation_matrix(y_val,y_pred)"
   ]
  },
  {
   "cell_type": "code",
   "execution_count": 45,
   "id": "7c3b32b2-9636-4304-afbc-b83c21d2f56e",
   "metadata": {},
   "outputs": [
    {
     "name": "stdout",
     "output_type": "stream",
     "text": [
      "Epoch 1/5\n",
      "609/609 [==============================] - 9s 12ms/step - loss: 0.0912 - accuracy: 0.9673 - val_loss: 0.9592 - val_accuracy: 0.7433\n",
      "Epoch 2/5\n",
      "609/609 [==============================] - 7s 12ms/step - loss: 0.0208 - accuracy: 0.9926 - val_loss: 1.4117 - val_accuracy: 0.7485\n",
      "Epoch 3/5\n",
      "609/609 [==============================] - 7s 12ms/step - loss: 0.0152 - accuracy: 0.9938 - val_loss: 1.3548 - val_accuracy: 0.7498\n"
     ]
    }
   ],
   "source": [
    "# model_10: GRU\n",
    "inputs=tf.keras.Input(shape=(1,),dtype=tf.string)\n",
    "x=text_vectorizer(inputs)\n",
    "x=embed_layer(x)\n",
    "x=tf.keras.layers.GRU(64)(x)\n",
    "x=tf.keras.layers.Dense(32,activation='relu')(x)\n",
    "x=tf.keras.layers.Dense(16,activation='relu')(x)\n",
    "outputs=tf.keras.layers.Dense(1,activation='sigmoid')(x)\n",
    "model_matrix[10]=tf.keras.Model(inputs=inputs,outputs=outputs)\n",
    "model_matrix[10].compile(optimizer='adam',loss='binary_crossentropy',metrics=['accuracy'])\n",
    "callback = tf.keras.callbacks.EarlyStopping(monitor='val_loss', patience=2)\n",
    "model_matrix[10].fit(x=X_train,y=y_train,steps_per_epoch=0.1*len(X_train), validation_data=(X_val,y_val),validation_steps=0.1*len(X_val),epochs=5, callbacks=[callback])\n",
    "y_pred=np.round(np.squeeze(model_matrix[10].predict(X_val)))\n",
    "eval_matrix[10]=evaluation_matrix(y_val,y_pred)"
   ]
  },
  {
   "cell_type": "code",
   "execution_count": 46,
   "id": "d63c876a-2ad2-4e85-a7a2-9826f5eaeffe",
   "metadata": {},
   "outputs": [
    {
     "name": "stdout",
     "output_type": "stream",
     "text": [
      "Epoch 1/5\n",
      "609/609 [==============================] - 11s 15ms/step - loss: 0.0489 - accuracy: 0.9841 - val_loss: 1.2778 - val_accuracy: 0.7387\n",
      "Epoch 2/5\n",
      "609/609 [==============================] - 9s 14ms/step - loss: 0.0137 - accuracy: 0.9936 - val_loss: 1.3576 - val_accuracy: 0.7374\n",
      "Epoch 3/5\n",
      "609/609 [==============================] - 9s 14ms/step - loss: 0.0113 - accuracy: 0.9943 - val_loss: 1.8740 - val_accuracy: 0.7137\n"
     ]
    }
   ],
   "source": [
    "# model_11: Bidirectional LSTM\n",
    "input=tf.keras.Input(shape=(1,),dtype=tf.string)\n",
    "x=text_vectorizer(input)\n",
    "x=embed_layer(x)\n",
    "x=tf.keras.layers.Bidirectional(tf.keras.layers.LSTM(64,return_sequences=True))(x)\n",
    "x=tf.keras.layers.GlobalMaxPool1D()(x)\n",
    "x=tf.keras.layers.Dense(32,activation='relu')(x)\n",
    "x=tf.keras.layers.Dense(16,activation='relu')(x)\n",
    "output=tf.keras.layers.Dense(1,activation='sigmoid')(x)\n",
    "model_matrix[11]=tf.keras.Model(inputs=input,outputs=output)\n",
    "model_matrix[11].compile(optimizer='adam',loss='binary_crossentropy',metrics=['accuracy'])\n",
    "callback = tf.keras.callbacks.EarlyStopping(monitor='val_loss', patience=2)\n",
    "model_matrix[11].fit(x=X_train,y=y_train,steps_per_epoch=0.1*len(X_train), validation_data=(X_val,y_val),validation_steps=0.1*len(X_val),epochs=5, callbacks=[callback])\n",
    "y_pred=np.round(np.squeeze(model_matrix[11].predict(X_val)))\n",
    "eval_matrix[11]=evaluation_matrix(y_val,y_pred)"
   ]
  },
  {
   "cell_type": "code",
   "execution_count": 47,
   "id": "989d1711-b8de-4208-a7b9-2ccf05d74a59",
   "metadata": {},
   "outputs": [
    {
     "name": "stdout",
     "output_type": "stream",
     "text": [
      "Epoch 1/5\n",
      "609/609 [==============================] - 9s 11ms/step - loss: 0.4803 - accuracy: 0.7829 - val_loss: 0.4621 - val_accuracy: 0.7958\n",
      "Epoch 2/5\n",
      "609/609 [==============================] - 7s 11ms/step - loss: 0.4008 - accuracy: 0.8268 - val_loss: 0.4545 - val_accuracy: 0.8056\n",
      "Epoch 3/5\n",
      "609/609 [==============================] - 6s 10ms/step - loss: 0.3823 - accuracy: 0.8322 - val_loss: 0.4454 - val_accuracy: 0.8083\n",
      "Epoch 4/5\n",
      "609/609 [==============================] - 7s 11ms/step - loss: 0.3652 - accuracy: 0.8432 - val_loss: 0.4536 - val_accuracy: 0.8070\n",
      "Epoch 5/5\n",
      "609/609 [==============================] - 7s 11ms/step - loss: 0.3475 - accuracy: 0.8516 - val_loss: 0.4573 - val_accuracy: 0.8070\n"
     ]
    }
   ],
   "source": [
    "# model_12: transfer learning: feature extraction\n",
    "\n",
    "embed_layer=hub.KerasLayer('https://tfhub.dev/google/universal-sentence-encoder/4',trainable=False,dtype=tf.string)\n",
    "inputs=tf.keras.Input(shape=(),dtype=tf.string)\n",
    "x=embed_layer(inputs)\n",
    "x=tf.keras.layers.Dense(32,activation='relu')(x)\n",
    "x=tf.keras.layers.Dense(16,activation='relu')(x)\n",
    "outputs=tf.keras.layers.Dense(1,activation='sigmoid')(x)\n",
    "model_matrix[12]=tf.keras.Model(inputs=inputs,outputs=outputs)\n",
    "callback = tf.keras.callbacks.EarlyStopping(monitor='val_loss', patience=2)\n",
    "model_matrix[12].compile(optimizer='adam',loss='binary_crossentropy',metrics=['accuracy'])\n",
    "model_matrix[12].fit(x=X_train,y=y_train,steps_per_epoch=0.1*len(X_train), validation_data=(X_val,y_val),validation_steps=0.1*len(X_val),epochs=5, callbacks=[callback])\n",
    "y_pred=np.round(np.squeeze(model_matrix[12].predict(X_val)))\n",
    "eval_matrix[12]=evaluation_matrix(y_val,y_pred)"
   ]
  },
  {
   "cell_type": "code",
   "execution_count": 58,
   "id": "c0d14058-b9ce-4ded-a735-d074b1df60bd",
   "metadata": {},
   "outputs": [
    {
     "name": "stdout",
     "output_type": "stream",
     "text": [
      "Model: \"model_12\"\n",
      "_________________________________________________________________\n",
      "Layer (type)                 Output Shape              Param #   \n",
      "=================================================================\n",
      "input_13 (InputLayer)        [(None,)]                 0         \n",
      "_________________________________________________________________\n",
      "keras_layer_2 (KerasLayer)   (None, 512)               256797824 \n",
      "_________________________________________________________________\n",
      "dense_36 (Dense)             (None, 32)                16416     \n",
      "_________________________________________________________________\n",
      "dense_37 (Dense)             (None, 16)                528       \n",
      "_________________________________________________________________\n",
      "dense_38 (Dense)             (None, 1)                 17        \n",
      "=================================================================\n",
      "Total params: 256,814,785\n",
      "Trainable params: 16,961\n",
      "Non-trainable params: 256,797,824\n",
      "_________________________________________________________________\n"
     ]
    }
   ],
   "source": [
    "model_matrix[12].summary()"
   ]
  },
  {
   "cell_type": "code",
   "execution_count": 56,
   "id": "2f032716-fb65-4e66-b8ba-4dee56f8cb53",
   "metadata": {},
   "outputs": [],
   "source": [
    "result=pd.DataFrame(eval_matrix.values())"
   ]
  },
  {
   "cell_type": "code",
   "execution_count": 62,
   "id": "802b7e90-f979-4d01-b3e2-484a11a7c34c",
   "metadata": {},
   "outputs": [],
   "source": [
    "result['model_no']=[f'model_{i}'for i in result.index]"
   ]
  },
  {
   "cell_type": "code",
   "execution_count": 63,
   "id": "17c57272-a8bc-4f6b-ad9c-ae3e4f2057ec",
   "metadata": {},
   "outputs": [
    {
     "data": {
      "text/html": [
       "<div>\n",
       "<style scoped>\n",
       "    .dataframe tbody tr th:only-of-type {\n",
       "        vertical-align: middle;\n",
       "    }\n",
       "\n",
       "    .dataframe tbody tr th {\n",
       "        vertical-align: top;\n",
       "    }\n",
       "\n",
       "    .dataframe thead th {\n",
       "        text-align: right;\n",
       "    }\n",
       "</style>\n",
       "<table border=\"1\" class=\"dataframe\">\n",
       "  <thead>\n",
       "    <tr style=\"text-align: right;\">\n",
       "      <th></th>\n",
       "      <th>f1_score</th>\n",
       "      <th>accuracy</th>\n",
       "      <th>False Positive</th>\n",
       "      <th>False Negative</th>\n",
       "      <th>precision_score</th>\n",
       "      <th>model_no</th>\n",
       "    </tr>\n",
       "  </thead>\n",
       "  <tbody>\n",
       "    <tr>\n",
       "      <th>0</th>\n",
       "      <td>0.718039</td>\n",
       "      <td>0.788575</td>\n",
       "      <td>71</td>\n",
       "      <td>251</td>\n",
       "      <td>0.852391</td>\n",
       "      <td>model_0</td>\n",
       "    </tr>\n",
       "    <tr>\n",
       "      <th>1</th>\n",
       "      <td>0.740081</td>\n",
       "      <td>0.789232</td>\n",
       "      <td>117</td>\n",
       "      <td>204</td>\n",
       "      <td>0.796167</td>\n",
       "      <td>model_1</td>\n",
       "    </tr>\n",
       "    <tr>\n",
       "      <th>2</th>\n",
       "      <td>0.760634</td>\n",
       "      <td>0.811556</td>\n",
       "      <td>82</td>\n",
       "      <td>205</td>\n",
       "      <td>0.847584</td>\n",
       "      <td>model_2</td>\n",
       "    </tr>\n",
       "    <tr>\n",
       "      <th>3</th>\n",
       "      <td>0.725862</td>\n",
       "      <td>0.791202</td>\n",
       "      <td>78</td>\n",
       "      <td>240</td>\n",
       "      <td>0.843687</td>\n",
       "      <td>model_3</td>\n",
       "    </tr>\n",
       "    <tr>\n",
       "      <th>4</th>\n",
       "      <td>0.703259</td>\n",
       "      <td>0.772817</td>\n",
       "      <td>95</td>\n",
       "      <td>251</td>\n",
       "      <td>0.811881</td>\n",
       "      <td>model_4</td>\n",
       "    </tr>\n",
       "    <tr>\n",
       "      <th>5</th>\n",
       "      <td>0.729412</td>\n",
       "      <td>0.788575</td>\n",
       "      <td>95</td>\n",
       "      <td>227</td>\n",
       "      <td>0.820416</td>\n",
       "      <td>model_5</td>\n",
       "    </tr>\n",
       "    <tr>\n",
       "      <th>6</th>\n",
       "      <td>0.715824</td>\n",
       "      <td>0.774787</td>\n",
       "      <td>114</td>\n",
       "      <td>229</td>\n",
       "      <td>0.791209</td>\n",
       "      <td>model_6</td>\n",
       "    </tr>\n",
       "    <tr>\n",
       "      <th>7</th>\n",
       "      <td>0.714397</td>\n",
       "      <td>0.759028</td>\n",
       "      <td>165</td>\n",
       "      <td>202</td>\n",
       "      <td>0.735577</td>\n",
       "      <td>model_7</td>\n",
       "    </tr>\n",
       "    <tr>\n",
       "      <th>8</th>\n",
       "      <td>0.702486</td>\n",
       "      <td>0.756402</td>\n",
       "      <td>148</td>\n",
       "      <td>223</td>\n",
       "      <td>0.747440</td>\n",
       "      <td>model_8</td>\n",
       "    </tr>\n",
       "    <tr>\n",
       "      <th>9</th>\n",
       "      <td>0.686935</td>\n",
       "      <td>0.749836</td>\n",
       "      <td>138</td>\n",
       "      <td>243</td>\n",
       "      <td>0.751799</td>\n",
       "      <td>model_9</td>\n",
       "    </tr>\n",
       "    <tr>\n",
       "      <th>10</th>\n",
       "      <td>0.684058</td>\n",
       "      <td>0.713723</td>\n",
       "      <td>247</td>\n",
       "      <td>189</td>\n",
       "      <td>0.656467</td>\n",
       "      <td>model_10</td>\n",
       "    </tr>\n",
       "    <tr>\n",
       "      <th>11</th>\n",
       "      <td>0.763666</td>\n",
       "      <td>0.806960</td>\n",
       "      <td>108</td>\n",
       "      <td>186</td>\n",
       "      <td>0.814751</td>\n",
       "      <td>model_11</td>\n",
       "    </tr>\n",
       "  </tbody>\n",
       "</table>\n",
       "</div>"
      ],
      "text/plain": [
       "    f1_score  accuracy  False Positive  False Negative  precision_score  \\\n",
       "0   0.718039  0.788575              71             251         0.852391   \n",
       "1   0.740081  0.789232             117             204         0.796167   \n",
       "2   0.760634  0.811556              82             205         0.847584   \n",
       "3   0.725862  0.791202              78             240         0.843687   \n",
       "4   0.703259  0.772817              95             251         0.811881   \n",
       "5   0.729412  0.788575              95             227         0.820416   \n",
       "6   0.715824  0.774787             114             229         0.791209   \n",
       "7   0.714397  0.759028             165             202         0.735577   \n",
       "8   0.702486  0.756402             148             223         0.747440   \n",
       "9   0.686935  0.749836             138             243         0.751799   \n",
       "10  0.684058  0.713723             247             189         0.656467   \n",
       "11  0.763666  0.806960             108             186         0.814751   \n",
       "\n",
       "    model_no  \n",
       "0    model_0  \n",
       "1    model_1  \n",
       "2    model_2  \n",
       "3    model_3  \n",
       "4    model_4  \n",
       "5    model_5  \n",
       "6    model_6  \n",
       "7    model_7  \n",
       "8    model_8  \n",
       "9    model_9  \n",
       "10  model_10  \n",
       "11  model_11  "
      ]
     },
     "execution_count": 63,
     "metadata": {},
     "output_type": "execute_result"
    }
   ],
   "source": [
    "result"
   ]
  },
  {
   "cell_type": "code",
   "execution_count": 72,
   "id": "01e7665c-e1c4-4163-b40b-2bcb8c176d9f",
   "metadata": {},
   "outputs": [
    {
     "data": {
      "image/png": "[encoded data removed]",
      "text/plain": [
       "<Figure size 800x300 with 2 Axes>"
      ]
     },
     "metadata": {},
     "output_type": "display_data"
    }
   ],
   "source": [
    "plt.figure(figsize=(8,3))\n",
    "plt.subplot(1,2,1)\n",
    "plt.bar('model_no','f1_score',data=result,color='green')\n",
    "plt.title('f1_score')\n",
    "plt.xticks(rotation=90)\n",
    "plt.subplot(1,2,2)\n",
    "plt.bar('model_no','accuracy',data=result,color='blue')\n",
    "plt.title('accuracy')\n",
    "plt.xticks(rotation=90)\n",
    "plt.show()\n"
   ]
  },
  {
   "cell_type": "code",
   "execution_count": 75,
   "id": "63a58a10-bc7d-469c-a18d-df45b469d96c",
   "metadata": {},
   "outputs": [
    {
     "data": {
      "image/png": "[encoded data removed]",
      "text/plain": [
       "<Figure size 800x300 with 3 Axes>"
      ]
     },
     "metadata": {},
     "output_type": "display_data"
    }
   ],
   "source": [
    "plt.figure(figsize=(8,3))\n",
    "plt.subplot(1,3,1)\n",
    "plt.bar('model_no','precision_score',data=result,color='red')\n",
    "plt.title('precision_score')\n",
    "plt.xticks(rotation=90)\n",
    "plt.subplot(1,3,2)\n",
    "plt.bar('model_no','False Positive',data=result,color='blue')\n",
    "plt.title('False Positive')\n",
    "plt.xticks(rotation=90)\n",
    "plt.subplot(1,3,3)\n",
    "plt.bar('model_no','False Negative',data=result,color='green')\n",
    "plt.title('False Negative')\n",
    "plt.xticks(rotation=90)\n",
    "plt.show()\n"
   ]
  },
  {
   "cell_type": "code",
   "execution_count": null,
   "id": "5504e54f-6299-4124-9105-a2ae96779064",
   "metadata": {},
   "outputs": [],
   "source": []
  }
 ],
 "metadata": {
  "kernelspec": {
   "display_name": "Python 3 (ipykernel)",
   "language": "python",
   "name": "python3"
  },
  "language_info": {
   "codemirror_mode": {
    "name": "ipython",
    "version": 3
   },
   "file_extension": ".py",
   "mimetype": "text/x-python",
   "name": "python",
   "nbconvert_exporter": "python",
   "pygments_lexer": "ipython3",
   "version": "3.9.18"
  }
 },
 "nbformat": 4,
 "nbformat_minor": 5
}
