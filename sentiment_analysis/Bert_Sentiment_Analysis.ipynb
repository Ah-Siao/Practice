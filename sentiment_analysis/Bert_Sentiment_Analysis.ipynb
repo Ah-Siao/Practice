{
 "cells": [
  {
   "cell_type": "code",
   "execution_count": 1,
   "id": "6e66a729-0ac3-450a-b5c9-6f6ad28dfa71",
   "metadata": {},
   "outputs": [
    {
     "name": "stderr",
     "output_type": "stream",
     "text": [
      "Some weights of the PyTorch model were not used when initializing the TF 2.0 model TFBertModel: ['cls.predictions.transform.dense.bias', 'cls.predictions.bias', 'cls.predictions.transform.LayerNorm.weight', 'cls.seq_relationship.bias', 'cls.predictions.transform.LayerNorm.bias', 'cls.seq_relationship.weight', 'cls.predictions.transform.dense.weight']\n",
      "- This IS expected if you are initializing TFBertModel from a PyTorch model trained on another task or with another architecture (e.g. initializing a TFBertForSequenceClassification model from a BertForPreTraining model).\n",
      "- This IS NOT expected if you are initializing TFBertModel from a PyTorch model that you expect to be exactly identical (e.g. initializing a TFBertForSequenceClassification model from a BertForSequenceClassification model).\n",
      "All the weights of TFBertModel were initialized from the PyTorch model.\n",
      "If your task is similar to the task the model of the checkpoint was trained on, you can already use TFBertModel for predictions without further training.\n"
     ]
    }
   ],
   "source": [
    "import pandas as pd\n",
    "import matplotlib.pyplot as plt\n",
    "from sklearn.model_selection import train_test_split\n",
    "from sklearn.metrics import accuracy_score,confusion_matrix,precision_score, recall_score, roc_curve, roc_auc_score, f1_score\n",
    "import numpy as np\n",
    "import tensorflow as tf\n",
    "from transformers import BertTokenizer, TFAutoModel\n",
    "\n",
    "# load tokenizer\n",
    "tokenizer=BertTokenizer.from_pretrained('bert-base-cased')\n",
    "# embedding layer:\n",
    "bert=TFAutoModel.from_pretrained('bert-base-cased')"
   ]
  },
  {
   "cell_type": "code",
   "execution_count": 2,
   "id": "c881a119-6b46-4b85-90d0-c5d52de96c00",
   "metadata": {},
   "outputs": [],
   "source": [
    "def split_data(train_path,split_ratio,seed):\n",
    "    '''\n",
    "    X_train, X_test, y_train, y_test=split_data(train_path,split_ratio,seed)\n",
    "    '''\n",
    "    train_df=pd.read_csv(train_path)\n",
    "    # randomize the data\n",
    "    train_shuffle_df=train_df[['text','target']].sample(frac=1,random_state=seed)\n",
    "    X=train_shuffle_df['text'].to_numpy()\n",
    "    y=train_shuffle_df['target'].to_numpy()\n",
    "    X_train, X_test, y_train, y_test = train_test_split(X, y, test_size=split_ratio, random_state=seed)\n",
    "    return X_train, X_test, y_train, y_test"
   ]
  },
  {
   "cell_type": "code",
   "execution_count": 3,
   "id": "5080b76f-b7f7-489d-98fb-8d6bb57aec4a",
   "metadata": {},
   "outputs": [],
   "source": [
    "def evaluation_matrix(y_true,y_pred):\n",
    "    '''\n",
    "    eval_dictionary=evaluation_matrix(y_true,y_pred)\n",
    "    '''\n",
    "    f1score=f1_score(y_true,y_pred)\n",
    "    recallscore=recall_score(y_true,y_pred)\n",
    "    accuracy=sum(y_true==y_pred)/len(y_true)\n",
    "    tn, fp, fn, tp =confusion_matrix(y_true,y_pred).ravel()\n",
    "    pre_score=precision_score(y_true,y_pred)\n",
    "    res={'f1_score':f1score,\n",
    "         'recall_score':recallscore,\n",
    "        'accuracy':accuracy,\n",
    "        'False Positive':fp,\n",
    "        'False Negative':fn,\n",
    "        'precision_score':pre_score}\n",
    "    return res"
   ]
  },
  {
   "cell_type": "code",
   "execution_count": 6,
   "id": "6fb7a491-acdc-4915-9d0c-8f9f0e328a11",
   "metadata": {},
   "outputs": [],
   "source": [
    "X_train, X_test, y_train, y_test=split_data('train.csv',0.1,42)"
   ]
  },
  {
   "cell_type": "code",
   "execution_count": 7,
   "id": "f8b6716b-7c27-494d-a79a-fba874443f9e",
   "metadata": {},
   "outputs": [
    {
     "data": {
      "text/plain": [
       "(6851, 762, 6851, 762)"
      ]
     },
     "execution_count": 7,
     "metadata": {},
     "output_type": "execute_result"
    }
   ],
   "source": [
    "len(X_train),len(X_test),len(y_train),len(y_test)"
   ]
  },
  {
   "cell_type": "code",
   "execution_count": 8,
   "id": "1417f0f1-5ebf-4ec2-940a-7519699d15ce",
   "metadata": {},
   "outputs": [],
   "source": [
    "# Tokenize phrases\n",
    "tokens=tokenizer(X_train.tolist(),max_length=512,truncation=True,padding='max_length',add_special_tokens=True,return_tensors='np')"
   ]
  },
  {
   "cell_type": "code",
   "execution_count": 9,
   "id": "5504c2a8-5822-4af1-8c25-bb614ca9c299",
   "metadata": {},
   "outputs": [
    {
     "data": {
      "text/plain": [
       "dict_keys(['input_ids', 'token_type_ids', 'attention_mask'])"
      ]
     },
     "execution_count": 9,
     "metadata": {},
     "output_type": "execute_result"
    }
   ],
   "source": [
    "tokens.keys()"
   ]
  },
  {
   "cell_type": "code",
   "execution_count": 10,
   "id": "900aabde-f0a2-4777-aac1-4f231e8839b5",
   "metadata": {},
   "outputs": [],
   "source": [
    "Xids=tokens['input_ids']\n",
    "Xmask=tokens['attention_mask']"
   ]
  },
  {
   "cell_type": "code",
   "execution_count": 11,
   "id": "bcf810e7-8634-4664-81bd-085b8f922d62",
   "metadata": {},
   "outputs": [
    {
     "data": {
      "text/plain": [
       "6851"
      ]
     },
     "execution_count": 11,
     "metadata": {},
     "output_type": "execute_result"
    }
   ],
   "source": [
    "Xids.shape[0]"
   ]
  },
  {
   "cell_type": "code",
   "execution_count": 13,
   "id": "e4149fec-534e-49c5-ae10-884263f03786",
   "metadata": {},
   "outputs": [
    {
     "data": {
      "text/plain": [
       "(6851, 1)"
      ]
     },
     "execution_count": 13,
     "metadata": {},
     "output_type": "execute_result"
    }
   ],
   "source": [
    "labels=np.expand_dims(y_train,axis=1)\n",
    "labels.shape"
   ]
  },
  {
   "cell_type": "code",
   "execution_count": 14,
   "id": "e57dadd5-d97a-4def-a582-236c7b19d733",
   "metadata": {},
   "outputs": [],
   "source": [
    "dataset=tf.data.Dataset.from_tensor_slices((Xids,Xmask,labels))"
   ]
  },
  {
   "cell_type": "code",
   "execution_count": 15,
   "id": "9dbda3fe-37bc-499d-9a2b-7185d7430dec",
   "metadata": {},
   "outputs": [],
   "source": [
    "def map_func(input_ids,masks,labels):\n",
    "    return {'input_ids':input_ids,\n",
    "            'attention_mask':masks},labels"
   ]
  },
  {
   "cell_type": "code",
   "execution_count": 16,
   "id": "dbd981b6-aa07-415c-a4b8-8eea89966697",
   "metadata": {},
   "outputs": [],
   "source": [
    "dataset=dataset.map(map_func)"
   ]
  },
  {
   "cell_type": "code",
   "execution_count": 17,
   "id": "97fc0bac-f2ab-4776-985b-82c2abd4f883",
   "metadata": {},
   "outputs": [
    {
     "data": {
      "text/plain": [
       "<MapDataset shapes: ({input_ids: (512,), attention_mask: (512,)}, (1,)), types: ({input_ids: tf.int32, attention_mask: tf.int32}, tf.int64)>"
      ]
     },
     "execution_count": 17,
     "metadata": {},
     "output_type": "execute_result"
    }
   ],
   "source": [
    "dataset"
   ]
  },
  {
   "cell_type": "code",
   "execution_count": 18,
   "id": "b9450cb7-1205-424b-9237-46d05ee31800",
   "metadata": {},
   "outputs": [],
   "source": [
    "batch_size=16\n",
    "dataset=dataset.shuffle(10000).batch(batch_size,drop_remainder=True)"
   ]
  },
  {
   "cell_type": "code",
   "execution_count": 19,
   "id": "c6970d53-4ac5-445f-8ba0-dcac91c39b97",
   "metadata": {},
   "outputs": [
    {
     "data": {
      "text/plain": [
       "({'input_ids': TensorSpec(shape=(16, 512), dtype=tf.int32, name=None),\n",
       "  'attention_mask': TensorSpec(shape=(16, 512), dtype=tf.int32, name=None)},\n",
       " TensorSpec(shape=(16, 1), dtype=tf.int64, name=None))"
      ]
     },
     "execution_count": 19,
     "metadata": {},
     "output_type": "execute_result"
    }
   ],
   "source": [
    "dataset.element_spec"
   ]
  },
  {
   "cell_type": "code",
   "execution_count": 20,
   "id": "2bfc7089-211f-4d56-a45c-e5945908e041",
   "metadata": {},
   "outputs": [
    {
     "data": {
      "text/plain": [
       "342"
      ]
     },
     "execution_count": 20,
     "metadata": {},
     "output_type": "execute_result"
    }
   ],
   "source": [
    "# 80% training data and 20% validation data\n",
    "split=0.8\n",
    "size=int((Xids.shape[0]/batch_size)*split)\n",
    "size"
   ]
  },
  {
   "cell_type": "code",
   "execution_count": 21,
   "id": "a1d7087c-e795-47c0-98ed-8d1213746086",
   "metadata": {},
   "outputs": [],
   "source": [
    "# Create train and validation dataset\n",
    "train_ds=dataset.take(size)\n",
    "val_ds=dataset.skip(size)"
   ]
  },
  {
   "cell_type": "code",
   "execution_count": 22,
   "id": "e1cec3ef-c419-4087-b69a-3fbb463d4ad4",
   "metadata": {},
   "outputs": [],
   "source": [
    "#let's build the model\n",
    "input_ids=tf.keras.layers.Input(shape=(512,),name='input_ids',dtype='int32')\n",
    "mask=tf.keras.layers.Input(shape=(512,),name='attention_mask',dtype='int32')\n",
    "embeddings=bert.bert(input_ids,attention_mask=mask)[1]\n",
    "#classification head\n",
    "x=tf.keras.layers.Dense(32,activation='relu')(embeddings)\n",
    "y=tf.keras.layers.Dense(1,activation='sigmoid',name='output')(x)\n",
    "model=tf.keras.Model(inputs=[input_ids,mask],outputs=y)"
   ]
  },
  {
   "cell_type": "code",
   "execution_count": 23,
   "id": "b3f8c7d4-65a8-4391-a461-2d7ec1755fa8",
   "metadata": {},
   "outputs": [
    {
     "data": {
      "text/plain": [
       "[<keras.engine.input_layer.InputLayer at 0x19e6f694d60>,\n",
       " <keras.engine.input_layer.InputLayer at 0x19e6f694820>,\n",
       " <transformers.models.bert.modeling_tf_bert.TFBertMainLayer at 0x19e29e1e2b0>,\n",
       " <keras.layers.core.Dense at 0x19e2c27faf0>,\n",
       " <keras.layers.core.Dense at 0x19e2c2639a0>]"
      ]
     },
     "execution_count": 23,
     "metadata": {},
     "output_type": "execute_result"
    }
   ],
   "source": [
    "model.layers"
   ]
  },
  {
   "cell_type": "code",
   "execution_count": 24,
   "id": "a43a296a-c767-42c4-933c-354141bf9685",
   "metadata": {},
   "outputs": [],
   "source": [
    "model.layers[2].trainable=False"
   ]
  },
  {
   "cell_type": "code",
   "execution_count": 25,
   "id": "7c40b433-c9ba-401f-bfef-c1864d00082f",
   "metadata": {},
   "outputs": [
    {
     "name": "stdout",
     "output_type": "stream",
     "text": [
      "Model: \"model\"\n",
      "__________________________________________________________________________________________________\n",
      "Layer (type)                    Output Shape         Param #     Connected to                     \n",
      "==================================================================================================\n",
      "input_ids (InputLayer)          [(None, 512)]        0                                            \n",
      "__________________________________________________________________________________________________\n",
      "attention_mask (InputLayer)     [(None, 512)]        0                                            \n",
      "__________________________________________________________________________________________________\n",
      "bert (TFBertMainLayer)          TFBaseModelOutputWit 108310272   input_ids[0][0]                  \n",
      "                                                                 attention_mask[0][0]             \n",
      "__________________________________________________________________________________________________\n",
      "dense (Dense)                   (None, 32)           24608       bert[0][1]                       \n",
      "__________________________________________________________________________________________________\n",
      "output (Dense)                  (None, 1)            33          dense[0][0]                      \n",
      "==================================================================================================\n",
      "Total params: 108,334,913\n",
      "Trainable params: 24,641\n",
      "Non-trainable params: 108,310,272\n",
      "__________________________________________________________________________________________________\n"
     ]
    }
   ],
   "source": [
    "model.summary()"
   ]
  },
  {
   "cell_type": "code",
   "execution_count": 26,
   "id": "297d12aa-7c57-465f-8a97-17ef07ea9787",
   "metadata": {},
   "outputs": [],
   "source": [
    "callback = tf.keras.callbacks.EarlyStopping(monitor='val_loss', patience=5)\n",
    "model.compile(loss='binary_crossentropy',optimizer='adam',metrics=['accuracy'])"
   ]
  },
  {
   "cell_type": "code",
   "execution_count": 27,
   "id": "fba5e369-3520-4638-9aac-77def407148b",
   "metadata": {},
   "outputs": [
    {
     "name": "stdout",
     "output_type": "stream",
     "text": [
      "Epoch 1/20\n",
      "342/342 [==============================] - 197s 563ms/step - loss: 0.6463 - accuracy: 0.6268 - val_loss: 0.5880 - val_accuracy: 0.6940\n",
      "Epoch 2/20\n",
      "342/342 [==============================] - 191s 557ms/step - loss: 0.6029 - accuracy: 0.6789 - val_loss: 0.5718 - val_accuracy: 0.7231\n",
      "Epoch 3/20\n",
      "342/342 [==============================] - 190s 557ms/step - loss: 0.5894 - accuracy: 0.6966 - val_loss: 0.5698 - val_accuracy: 0.7100\n",
      "Epoch 4/20\n",
      "342/342 [==============================] - 191s 557ms/step - loss: 0.5802 - accuracy: 0.7045 - val_loss: 0.5317 - val_accuracy: 0.7594\n",
      "Epoch 5/20\n",
      "342/342 [==============================] - 179s 523ms/step - loss: 0.5601 - accuracy: 0.7197 - val_loss: 0.5243 - val_accuracy: 0.7493\n",
      "Epoch 6/20\n",
      "342/342 [==============================] - 193s 564ms/step - loss: 0.5579 - accuracy: 0.7244 - val_loss: 0.5268 - val_accuracy: 0.7500\n",
      "Epoch 7/20\n",
      "342/342 [==============================] - 192s 562ms/step - loss: 0.5539 - accuracy: 0.7295 - val_loss: 0.5161 - val_accuracy: 0.7791\n",
      "Epoch 8/20\n",
      "342/342 [==============================] - 196s 572ms/step - loss: 0.5487 - accuracy: 0.7332 - val_loss: 0.5412 - val_accuracy: 0.7398\n",
      "Epoch 9/20\n",
      "342/342 [==============================] - 195s 569ms/step - loss: 0.5470 - accuracy: 0.7387 - val_loss: 0.5349 - val_accuracy: 0.7347\n",
      "Epoch 10/20\n",
      "342/342 [==============================] - 181s 529ms/step - loss: 0.5351 - accuracy: 0.7383 - val_loss: 0.5121 - val_accuracy: 0.7442\n",
      "Epoch 11/20\n",
      "342/342 [==============================] - 191s 560ms/step - loss: 0.5477 - accuracy: 0.7292 - val_loss: 0.5876 - val_accuracy: 0.7209\n",
      "Epoch 12/20\n",
      "342/342 [==============================] - 191s 557ms/step - loss: 0.5426 - accuracy: 0.7312 - val_loss: 0.5102 - val_accuracy: 0.7580\n",
      "Epoch 13/20\n",
      "342/342 [==============================] - 192s 561ms/step - loss: 0.5406 - accuracy: 0.7390 - val_loss: 0.5280 - val_accuracy: 0.7420\n",
      "Epoch 14/20\n",
      "342/342 [==============================] - 191s 558ms/step - loss: 0.5405 - accuracy: 0.7337 - val_loss: 0.5386 - val_accuracy: 0.7137\n",
      "Epoch 15/20\n",
      "342/342 [==============================] - 193s 564ms/step - loss: 0.5418 - accuracy: 0.7350 - val_loss: 0.5195 - val_accuracy: 0.7500\n",
      "Epoch 16/20\n",
      "342/342 [==============================] - 193s 564ms/step - loss: 0.5385 - accuracy: 0.7376 - val_loss: 0.5669 - val_accuracy: 0.6977\n",
      "Epoch 17/20\n",
      "342/342 [==============================] - 185s 540ms/step - loss: 0.5398 - accuracy: 0.7407 - val_loss: 0.5501 - val_accuracy: 0.7035\n"
     ]
    }
   ],
   "source": [
    "history=model.fit(train_ds,validation_data=val_ds,epochs=20,callbacks=[callback])"
   ]
  },
  {
   "cell_type": "code",
   "execution_count": 31,
   "id": "4b773548-07eb-4f27-8b54-44f7b04652b7",
   "metadata": {},
   "outputs": [
    {
     "data": {
      "text/plain": [
       "<Axes: >"
      ]
     },
     "execution_count": 31,
     "metadata": {},
     "output_type": "execute_result"
    },
    {
     "data": {
      "image/png": "[encoded data removed]",
      "text/plain": [
       "<Figure size 640x480 with 1 Axes>"
      ]
     },
     "metadata": {},
     "output_type": "display_data"
    }
   ],
   "source": [
    "pd.DataFrame(history.history).plot()"
   ]
  },
  {
   "cell_type": "code",
   "execution_count": 29,
   "id": "120829e9-ef82-427c-8c67-c46552f6a27e",
   "metadata": {},
   "outputs": [],
   "source": [
    "def prep_data(text):\n",
    "    tokens=tokenizer(text,max_length=512,truncation=True,padding='max_length',add_special_tokens=True,return_tensors='tf')\n",
    "    return {'input_ids':tokens['input_ids'],'attention_mask':tokens['attention_mask']}              "
   ]
  },
  {
   "cell_type": "code",
   "execution_count": 30,
   "id": "56b069a7-ace4-4731-a7cd-53fa3a4f3b5a",
   "metadata": {},
   "outputs": [
    {
     "name": "stderr",
     "output_type": "stream",
     "text": [
      "WARNING:absl:Found untraced functions such as embeddings_layer_call_and_return_conditional_losses, embeddings_layer_call_fn, encoder_layer_call_and_return_conditional_losses, encoder_layer_call_fn, pooler_layer_call_and_return_conditional_losses while saving (showing 5 of 1050). These functions will not be directly callable after loading.\n"
     ]
    },
    {
     "name": "stdout",
     "output_type": "stream",
     "text": [
      "INFO:tensorflow:Assets written to: sentiment_model\\assets\n"
     ]
    },
    {
     "name": "stderr",
     "output_type": "stream",
     "text": [
      "INFO:tensorflow:Assets written to: sentiment_model\\assets\n"
     ]
    }
   ],
   "source": [
    "model.save('sentiment_model')"
   ]
  },
  {
   "cell_type": "code",
   "execution_count": 32,
   "id": "6ae5962b-691d-4677-ba7d-381aea901ba1",
   "metadata": {},
   "outputs": [
    {
     "data": {
      "text/plain": [
       "0.1557450145483017"
      ]
     },
     "execution_count": 32,
     "metadata": {},
     "output_type": "execute_result"
    }
   ],
   "source": [
    "model.predict(prep_data('Hello World')).item()"
   ]
  },
  {
   "cell_type": "code",
   "execution_count": 33,
   "id": "4fb74972-d7ba-4a07-a1c5-50b483e3ad0f",
   "metadata": {},
   "outputs": [],
   "source": [
    "pred=[]\n",
    "for text in X_test:\n",
    "    pred.append(model.predict(prep_data(text)).item())"
   ]
  },
  {
   "cell_type": "code",
   "execution_count": 34,
   "id": "b807f0fb-28b7-411d-9a78-e9d655f7a785",
   "metadata": {},
   "outputs": [],
   "source": [
    "y_pred=np.round(pred)"
   ]
  },
  {
   "cell_type": "code",
   "execution_count": 35,
   "id": "c6510e50-d615-4b3b-aeeb-d2da7eb8d6a7",
   "metadata": {},
   "outputs": [
    {
     "data": {
      "text/plain": [
       "{'f1_score': 0.7231920199501247,\n",
       " 'recall_score': 0.8333333333333334,\n",
       " 'accuracy': 0.7086614173228346,\n",
       " 'False Positive': 164,\n",
       " 'False Negative': 58,\n",
       " 'precision_score': 0.6387665198237885}"
      ]
     },
     "execution_count": 35,
     "metadata": {},
     "output_type": "execute_result"
    }
   ],
   "source": [
    "evaluation_matrix(y_test,y_pred)"
   ]
  },
  {
   "cell_type": "code",
   "execution_count": null,
   "id": "6a8c1872-543e-44d4-bad0-21a7af3153c3",
   "metadata": {},
   "outputs": [],
   "source": []
  },
  {
   "cell_type": "code",
   "execution_count": null,
   "id": "6729790d-31fb-4fe4-b964-e2c18301f879",
   "metadata": {},
   "outputs": [],
   "source": []
  }
 ],
 "metadata": {
  "kernelspec": {
   "display_name": "Python 3 (ipykernel)",
   "language": "python",
   "name": "python3"
  },
  "language_info": {
   "codemirror_mode": {
    "name": "ipython",
    "version": 3
   },
   "file_extension": ".py",
   "mimetype": "text/x-python",
   "name": "python",
   "nbconvert_exporter": "python",
   "pygments_lexer": "ipython3",
   "version": "3.9.18"
  }
 },
 "nbformat": 4,
 "nbformat_minor": 5
}
